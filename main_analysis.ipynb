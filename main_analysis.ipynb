{
 "cells": [
  {
   "cell_type": "markdown",
   "metadata": {},
   "source": [
    "# General information"
   ]
  },
  {
   "cell_type": "markdown",
   "metadata": {},
   "source": [
    "Import the previously generated scenarios"
   ]
  },
  {
   "cell_type": "code",
   "execution_count": null,
   "metadata": {},
   "outputs": [],
   "source": [
    "# Name of the data file \n",
    "datafile = \"usecase_initialdata.xlsx\""
   ]
  },
  {
   "cell_type": "code",
   "execution_count": null,
   "metadata": {},
   "outputs": [],
   "source": [
    "import tools\n",
    "import analyse_bdd_general\n",
    "import analyse_spmf\n",
    "import TraitementDataconflit\n",
    "import matplotlib.pyplot as plt\n",
    "import matplotlib.colors as mcolors\n",
    "\n",
    "\n",
    "a = TraitementDataconflit.tablecreation(datafile)\n",
    "data_decision = a[3]\n",
    "data_opinions = a[0]\n",
    "data_positions = a[1]\n",
    "data_user = a[2]\n",
    "data_initialstate = a[6]\n",
    "data_logicalconstraint = a[4]\n",
    "data_pplconstraint = a[5]\n",
    "data_goals = a[7]\n",
    "\n",
    "D = tools.dataload('stockage_d.pkl')\n",
    "state_dict = tools.dataload('stockagedict_etat.pkl')\n",
    "scenarios = tools.dataload('stockage_scenarios.pkl')\n",
    "system = tools.dataload('stockage_systeme.pkl')\n",
    "\n",
    "scenariosconflict = tools.scenarioobjatteint(scenarios, \"conflit logique\")\n",
    "scenariosgoals = tools.scenarioobjatteint(scenarios, \"objectif(s) atteint(s)\")"
   ]
  },
  {
   "cell_type": "code",
   "execution_count": null,
   "metadata": {},
   "outputs": [],
   "source": [
    "print(system.pp)"
   ]
  },
  {
   "cell_type": "markdown",
   "metadata": {},
   "source": [
    "print the main statistics resulting from the data"
   ]
  },
  {
   "cell_type": "code",
   "execution_count": null,
   "metadata": {},
   "outputs": [],
   "source": [
    "print(analyse_bdd_general.statistiques(scenarios, state_dict, data_opinions))"
   ]
  },
  {
   "attachments": {},
   "cell_type": "markdown",
   "metadata": {},
   "source": [
    "# Scenarios grouping"
   ]
  },
  {
   "attachments": {},
   "cell_type": "markdown",
   "metadata": {},
   "source": [
    "## Grouping accoding to value(s) of variable(s)"
   ]
  },
  {
   "cell_type": "markdown",
   "metadata": {},
   "source": [
    "As an example we look here for all the scenarios including a sanitary crisis"
   ]
  },
  {
   "cell_type": "code",
   "execution_count": null,
   "metadata": {},
   "outputs": [],
   "source": [
    "#look for scenarios with a specific feature (value)\n",
    "    #dict of variables and their values\n",
    "value = {'CriseSanitaire':['Oui_cs']}"
   ]
  },
  {
   "cell_type": "code",
   "execution_count": null,
   "metadata": {},
   "outputs": [],
   "source": [
    "a = tools.value_in_scenarios(value, scenarios, state_dict)\n",
    "tools.allscenariostoreadbetter('result3_copy2.txt', a, state_dict)\n",
    "len(a)"
   ]
  },
  {
   "cell_type": "markdown",
   "metadata": {},
   "source": [
    "## Grouping by scenarios ending criteria"
   ]
  },
  {
   "cell_type": "code",
   "execution_count": null,
   "metadata": {},
   "outputs": [],
   "source": [
    "import matplotlib.pyplot as plt\n",
    "import copy\n",
    "\n",
    "a = analyse_bdd_general.var_vs_var_conflict(scenariosconflict)\n",
    "\n",
    "var = list(system.v.keys())\n",
    "\n",
    "fig = plt.figure()\n",
    "min = 0\n",
    "max = len(scenariosconflict)\n",
    "dmin =0\n",
    "dmax=1000\n",
    "\n",
    "var2 = copy.deepcopy(var)\n",
    "points = []\n",
    "ocs = []\n",
    "for v1 in var :\n",
    "    for v2 in var :\n",
    "        tempooc = a.get(v1,0)\n",
    "        if tempooc != 0 :\n",
    "            oc = tempooc.get(v2,0)\n",
    "            t=(oc-min)/(max-min)\n",
    "            taille = t*(dmax)+(1-t)*dmin\n",
    "            if (not [v2, v1, taille] in points) and (not [v1, v2, taille] in points):\n",
    "                points.append([v2, v1, taille])\n",
    "                ocs.append(oc)\n",
    "        else:\n",
    "            points.append([v2, v1, 0])\n",
    "print(ocs)\n",
    "\n",
    "v2s, v1s, tailles = [], [], []\n",
    "for point in points:\n",
    "    v2s.append(point[0])\n",
    "    v1s.append(point[1])\n",
    "    tailles.append(point[2])\n",
    "print(tailles)\n",
    "print(v2s)\n",
    "fig, ax = plt.subplots()\n",
    "\n",
    "plt.scatter(v2s,v1s,s=tailles,marker='o',color='olivedrab')\n",
    "for i in range(len(tailles)):\n",
    "    if tailles[i]!=0 :\n",
    "        plt.annotate(ocs[i],xy=(v2s[i],v1s[i]), textcoords='offset points', xytext=(0,13))\n",
    "\n",
    "plt.ylabel('Variables')\n",
    "plt.xlabel('Variables')\n",
    "plt.xticks(rotation=80)\n",
    "\n",
    "ax.set_ylim(-0.5, len(var)-0.5)\n",
    "ax.set_xlim(-0.5, len(var)-0.5)\n",
    "ax.set_yticks(var)\n",
    "ax.set_xticks(var)\n",
    "\n",
    "\n",
    "image_format = 'svg' # e.g .png, .svg, etc.\n",
    "image_name = 'ratio_varvar_conflit.svg'\n",
    "\n",
    "fig.savefig(image_name, format=image_format, dpi=1200)"
   ]
  },
  {
   "cell_type": "markdown",
   "metadata": {},
   "source": [
    "## Grouping by repected principles"
   ]
  },
  {
   "cell_type": "code",
   "execution_count": null,
   "metadata": {},
   "outputs": [],
   "source": [
    "#respected principle\n",
    "resp_principle = \"SatisfactionClient\""
   ]
  },
  {
   "cell_type": "code",
   "execution_count": null,
   "metadata": {},
   "outputs": [],
   "source": [
    "#We take into account only the decisions taken by the user\n",
    "\n",
    "a = analyse_bdd_general.respected_pp(scenarios, resp_principle,0,system, state_dict, data_positions, data_opinions)\n",
    "tools.allscenariostoreadbetter('result3_copy2.txt', a, state_dict)\n",
    "print(len(a))\n",
    "print(a[0])"
   ]
  },
  {
   "cell_type": "code",
   "execution_count": null,
   "metadata": {},
   "outputs": [],
   "source": [
    "#We take into account every decisions of each agents\n",
    "\n",
    "b = analyse_bdd_general.respected_pp_allact(scenarios, resp_principle,0,system, state_dict, data_positions, data_opinions)\n",
    "tools.allscenariostoreadbetter('result3_copy2.txt', b, state_dict)\n",
    "print(len(b))\n",
    "print(b[0])"
   ]
  },
  {
   "cell_type": "code",
   "execution_count": null,
   "metadata": {},
   "outputs": [],
   "source": [
    "import numpy as np\n",
    "data_parallel = tools.data_parallel_scenario(b, state_dict, system)\n",
    "# an example as also been made using best[0].get(\"WealthCreation\") instead of b in the following code\n",
    "\n",
    "\n",
    "dim_list =[]\n",
    "\n",
    "id_list=list(range(1,len(b)+1)) \n",
    "ids = np.tile(id_list,6)\n",
    "\n",
    "dim_list.append({'label':'ids', 'values': ids})\n",
    "\n",
    "dim_list.append({'label':'var','values':data_parallel[1]})\n",
    "\n",
    "\n",
    "for i in data_parallel[2] :\n",
    "    dim_list.append({'label':i,'values': data_parallel[2].get(i)})\n",
    "\n",
    "print(data_parallel[1])\n"
   ]
  },
  {
   "cell_type": "code",
   "execution_count": null,
   "metadata": {},
   "outputs": [],
   "source": [
    "import plotly.graph_objects as go\n",
    "import plotly.io as pio\n",
    "import plotly.express as px\n",
    "\n",
    "\n",
    "#listescenario\n",
    "liste40=[]\n",
    "for i in range(1,40): #40 is the number of scenarios in the example using b\n",
    "    liste40.append(i)\n",
    "\n",
    "#listevar\n",
    "list_var = list(system.v.keys())\n",
    "list_nbvar = [*range(1,len(list_var)+1,1)]\n",
    "dict_var = {}\n",
    "var = data_parallel[1]\n",
    "index = 1\n",
    "#dict var nb de reference\n",
    "for v in list_var :\n",
    "    dict_var.update({v:index})\n",
    "    index +=1\n",
    "newlistvar = []\n",
    "#turn listvar into a list of numbers\n",
    "for v2 in var :\n",
    "    newlistvar.append(dict_var.get(v2))\n",
    "\n",
    "#listeval\n",
    "liste_val = []\n",
    "for var in system.v : \n",
    "    for val in system.v.get(var).valeurs:\n",
    "        liste_val.append(val)\n",
    "liste_nbval = [*range(1,len(liste_val)+1,1)]\n",
    "dict_val = {}\n",
    "index = 1\n",
    "for val in liste_val :\n",
    "    dict_val.update({val:index})\n",
    "    index +=1\n",
    "\n",
    "dim_list=[]\n",
    "dim_list.append(dict(range = [1,40], \n",
    "                 label = 'Scenarios ID', values = ids))\n",
    "dim_list.append(dict(range = [1,len(list_var)],\n",
    "                 tickvals = list_nbvar,\n",
    "                 label = 'Variables', values = newlistvar,\n",
    "                 ticktext = list_var))\n",
    "\n",
    "for i in data_parallel[2] :\n",
    "    newlistval = []\n",
    "    for val2 in data_parallel[2].get(i) :\n",
    "        if val2 == None :\n",
    "            newlistval.append(0)\n",
    "        else :\n",
    "            newlistval.append(dict_val.get(val2))\n",
    "    dim_list.append({'label':i, 'range':[0,len(liste_val)],\n",
    "                     'tickvals' : liste_nbval, 'values': newlistval,\n",
    "                     'ticktext':liste_val})\n",
    "\n",
    "color = id_list;\n",
    "fig = go.Figure(data=\n",
    "    go.Parcoords(\n",
    "        line={'color':ids, 'colorscale':'Portland'}, \n",
    "        dimensions = list(dim_list),\n",
    "        unselected = dict(line = dict(color = 'green', opacity = 0.05))\n",
    "    )\n",
    ")\n",
    "\n",
    "fig.write_image(\"images/test.svg\")\n",
    "fig.write_image(\"images/test.pdf\")\n",
    "fig.write_image(\"images/test.png\")\n",
    "fig.show()"
   ]
  },
  {
   "cell_type": "markdown",
   "metadata": {},
   "source": [
    "# Conflicts management and avoidance"
   ]
  },
  {
   "attachments": {},
   "cell_type": "markdown",
   "metadata": {},
   "source": [
    "## Conflicts statistics"
   ]
  },
  {
   "cell_type": "code",
   "execution_count": null,
   "metadata": {},
   "outputs": [],
   "source": [
    "statconflit = analyse_bdd_general.statconflit(scenariosconflict)\n",
    "print(\"\\nStatistics on the variables responsible for conflicts\")\n",
    "print(statconflit[0])\n",
    "print(\"\\nStatistics on the decisions responsible for conflicts\")\n",
    "print(statconflit[1])"
   ]
  },
  {
   "cell_type": "markdown",
   "metadata": {},
   "source": [
    "Statistics on variables"
   ]
  },
  {
   "cell_type": "code",
   "execution_count": null,
   "metadata": {},
   "outputs": [],
   "source": [
    "fig = plt.figure()\n",
    "ax = fig.add_axes([0,0,1,1])\n",
    "variable = list(statconflit[0].keys())\n",
    "ratio = list(statconflit[0].values())\n",
    "width = 0.25\n",
    "\n",
    "ax.bar(variable,ratio, width, color='olivedrab')\n",
    "ax.bar_label(ax.containers[0], label_type='edge')\n",
    "\n",
    "plt.ylabel('Occurence ratio in conflicts')\n",
    "plt.xlabel('Variables')\n",
    "\n",
    "\n",
    "image_format = 'png' # e.g .png, .svg, etc.\n",
    "image_name = 'ratio_variable_conflit.png'\n",
    "\n",
    "plt.savefig(image_name, format=image_format, dpi=1200)\n",
    "\n",
    "plt.show()"
   ]
  },
  {
   "cell_type": "markdown",
   "metadata": {},
   "source": [
    "Statistics on decisions"
   ]
  },
  {
   "cell_type": "code",
   "execution_count": null,
   "metadata": {},
   "outputs": [],
   "source": [
    "fig = plt.figure()\n",
    "ax = fig.add_axes([0,0,1,1])\n",
    "\n",
    "variable = list(statconflit[1].keys())\n",
    "ratio = list(statconflit[1].values())\n",
    "width = 0.35\n",
    "\n",
    "ax.bar(variable,ratio, width, color='powderblue')\n",
    "ax.bar_label(ax.containers[0], label_type='edge')\n",
    "\n",
    "plt.ylabel('Occurence ratio in conflict')\n",
    "plt.xlabel('Decisions')\n",
    "plt.xticks(rotation=80)\n",
    "image_format = 'png' # e.g .png, .svg, etc.\n",
    "image_name = 'ratio_decision_conflit.png'\n",
    "\n",
    "fig.savefig(image_name, format=image_format, dpi=1200)\n",
    "\n",
    "plt.show()"
   ]
  },
  {
   "cell_type": "code",
   "execution_count": null,
   "metadata": {},
   "outputs": [],
   "source": [
    "print(analyse_bdd_general.Newgraphettppe(scenarios,system, state_dict, data_positions, data_opinions))\n"
   ]
  },
  {
   "cell_type": "code",
   "execution_count": null,
   "metadata": {},
   "outputs": [],
   "source": [
    "print(analyse_bdd_general.Linkinggraphettppe(scenarios, system, state_dict, data_positions, data_opinions))"
   ]
  },
  {
   "attachments": {},
   "cell_type": "markdown",
   "metadata": {},
   "source": [
    "## Data mining algorithms on conflicts analysis"
   ]
  },
  {
   "cell_type": "code",
   "execution_count": null,
   "metadata": {},
   "outputs": [],
   "source": [
    "#Prepare the files that are going to be analyse by the next data mining algorithms \n",
    "#(RuleGrowth and PrefixSpan)\n",
    "analyse_spmf.inputBDDspmf(scenarios, D, state_dict)\n",
    "analyse_spmf.inputspmfprincipe(scenarios, system)\n",
    "print(\"Database generated\")"
   ]
  },
  {
   "cell_type": "markdown",
   "metadata": {},
   "source": [
    "### Sequential rule mining"
   ]
  },
  {
   "cell_type": "markdown",
   "metadata": {},
   "source": [
    "<blockquote>Use spmf to produce the file for the following analysis part (<a href=\"https://www.philippe-fournier-viger.com/spmf/index.php?link=download.php\">https://www.philippe-fournier-viger.com/spmf/index.php?link=download.php</a>) <br>\n",
    "        <ul><li>the example files have been produced using the following parameter for the RuleGrowth algorithm : (min sup = 0.005 and minconf = 0.6) and the inputBDD file generated just above</li>\n",
    "        <li>the result for the example is stored in the file : output_miniusecase1_usereasyflight.txt </li></ul></blockquote>"
   ]
  },
  {
   "cell_type": "code",
   "execution_count": null,
   "metadata": {},
   "outputs": [],
   "source": [
    "#Generate the file using the algorithm RuleGrowth with the file inputBDD\n",
    "dataoutputspmf = analyse_spmf.outputspmf('output_miniusecase1_usereasyflight.txt')\n",
    "listconflitspmf = analyse_spmf.listconflitspmf(dataoutputspmf)\n",
    "listobjectifspmf = analyse_spmf.objectifspmf(dataoutputspmf)"
   ]
  },
  {
   "cell_type": "code",
   "execution_count": null,
   "metadata": {},
   "outputs": [],
   "source": [
    "print(\"The set of decisions giving conflicts with the highest confidence/sufficiency: \")\n",
    "maxconf = analyse_spmf.max_seq(listconflitspmf, 2, 'No')\n",
    "print(maxconf[0])"
   ]
  },
  {
   "cell_type": "code",
   "execution_count": null,
   "metadata": {},
   "outputs": [],
   "source": [
    "if maxconf[1] == 1 :\n",
    "        print(\"There is one or more set of decisions that are sufficient for a conflict to happen\", max[0])\n",
    "else:    \n",
    "    print(\"There is no set of decisions that is sufficient for a conflict to happen.\")"
   ]
  },
  {
   "cell_type": "code",
   "execution_count": null,
   "metadata": {},
   "outputs": [],
   "source": [
    "print (\"The smallest set of decision with the maximum probability for a conflict to happen is: \")\n",
    "sequencemin = analyse_spmf.seqmin(maxconf[0])\n",
    "print(sequencemin)"
   ]
  },
  {
   "cell_type": "code",
   "execution_count": null,
   "metadata": {},
   "outputs": [],
   "source": [
    "#to know if the smallest sequence with the highest sufficiency is necessary\n",
    "necessary = analyse_spmf.set_necessary(sequencemin, len(scenariosconflict))\n",
    "print(necessary)"
   ]
  },
  {
   "cell_type": "code",
   "execution_count": null,
   "metadata": {},
   "outputs": [],
   "source": [
    "#to look for the most necessary sequences\n",
    "necessary2 = analyse_spmf.set_necessary(listconflitspmf, len(scenariosconflict))\n",
    "print(necessary2)"
   ]
  },
  {
   "attachments": {},
   "cell_type": "markdown",
   "metadata": {},
   "source": [
    "### Sequential pattern mining"
   ]
  },
  {
   "cell_type": "markdown",
   "metadata": {},
   "source": [
    "<blockquote>Use spmf to produce the file for the following analysis part (<a href=\"https://www.philippe-fournier-viger.com/spmf/index.php?link=download.php\">https://www.philippe-fournier-viger.com/spmf/index.php?link=download.php</a>)<br>\n",
    "        <ul><li>the example files have been produced using the following parameter for the PrefixSpan algorithm : minsup = 0.1 and the inputBDD file </li>\n",
    "        <li>the result for the example is stored in the file : output_miniusecase_usereasyflight_prefixspan.txt </li></ul></blockquote>"
   ]
  },
  {
   "cell_type": "code",
   "execution_count": null,
   "metadata": {},
   "outputs": [],
   "source": [
    "#Generate the file using PrefixSpan with the file inputBDD\n",
    "dataoutputspmf2 = analyse_spmf.outputspmf2('output_miniusecase_usereasyflight_prefixspan.txt')\n",
    "listconflitspmf2 = analyse_spmf.listconflitspmf2(dataoutputspmf2, \"conflitlogique\") #end : \"objectif(s)atteint(s)\", \"conflitlogique\"\n",
    "maxsup = analyse_spmf.max_seq(listconflitspmf2, 1, 'Yes') #put 'yes' if you want as results, sections with a length higher than 1\n",
    "necessary_PS = analyse_spmf.set_necessary(maxsup[0], len(scenariosconflict))\n",
    "print(necessary_PS)"
   ]
  },
  {
   "cell_type": "code",
   "execution_count": null,
   "metadata": {},
   "outputs": [],
   "source": [
    "listedecisionscenarios = tools.listedecisionscenario1(scenarios)\n",
    "sufficiency_PS = analyse_spmf.set_sufficiency(necessary_PS[1], listedecisionscenarios)\n",
    "print(sufficiency_PS)"
   ]
  },
  {
   "cell_type": "code",
   "execution_count": null,
   "metadata": {},
   "outputs": [],
   "source": [
    "sufficiency_PS2 = analyse_spmf.set_sufficiency(listconflitspmf2, listedecisionscenarios)\n",
    "print(sufficiency_PS2)"
   ]
  },
  {
   "attachments": {},
   "cell_type": "markdown",
   "metadata": {},
   "source": [
    "le plus petit parmi les motifs à plus haute confiance"
   ]
  },
  {
   "cell_type": "code",
   "execution_count": null,
   "metadata": {},
   "outputs": [],
   "source": [
    "print(analyse_spmf.seqmin(sufficiency_PS2[1]))"
   ]
  },
  {
   "attachments": {},
   "cell_type": "markdown",
   "metadata": {},
   "source": [
    "le plus haut support avec la plus haute confiance"
   ]
  },
  {
   "cell_type": "code",
   "execution_count": null,
   "metadata": {},
   "outputs": [],
   "source": [
    "print(analyse_spmf.max_seq(sufficiency_PS2[1], 1, 'No'))"
   ]
  },
  {
   "attachments": {},
   "cell_type": "markdown",
   "metadata": {},
   "source": [
    "# Goals achievments"
   ]
  },
  {
   "cell_type": "markdown",
   "metadata": {},
   "source": [
    "## Goals never reached"
   ]
  },
  {
   "cell_type": "code",
   "execution_count": null,
   "metadata": {},
   "outputs": [],
   "source": [
    "print(\"The following values of variables are never reached in the scenarios:\")\n",
    "\n",
    "never_reached_values = tools.valeursNonAtteintes(state_dict,system)\n",
    "print(never_reached_values)"
   ]
  },
  {
   "cell_type": "code",
   "execution_count": null,
   "metadata": {},
   "outputs": [],
   "source": [
    "print(\"so we will never been able to achieve the following goals:\")\n",
    "print(analyse_bdd_general.objnonrealisable(never_reached_values,data_goals))"
   ]
  },
  {
   "cell_type": "markdown",
   "metadata": {},
   "source": [
    "## Goals statistics"
   ]
  },
  {
   "cell_type": "code",
   "execution_count": null,
   "metadata": {},
   "outputs": [],
   "source": [
    "#Statistics on decisions\n",
    "\n",
    "statisticsgoals = analyse_bdd_general.statgoals(scenariosgoals)\n",
    "print(statisticsgoals)"
   ]
  },
  {
   "cell_type": "code",
   "execution_count": null,
   "metadata": {},
   "outputs": [],
   "source": [
    "fig = plt.figure()\n",
    "ax = fig.add_axes([0,0,1,1])\n",
    "variable = list(statisticsgoals.keys())\n",
    "ratio = list(statisticsgoals.values())\n",
    "width = 0.35\n",
    "\n",
    "ax.bar(variable,ratio, width, color='powderblue')\n",
    "ax.bar_label(ax.containers[0], label_type='edge')\n",
    "plt.ylabel('Ratio de présence avant les objectifs')\n",
    "plt.xlabel('Decisions')\n",
    "plt.xticks(rotation=80)\n",
    "image_format = 'svg' # e.g .png, .svg, etc.\n",
    "image_name = 'ratio_decision_objectifs.svg'\n",
    "\n",
    "fig.savefig(image_name, format=image_format, dpi=1200)\n",
    "\n",
    "plt.show()"
   ]
  },
  {
   "cell_type": "markdown",
   "metadata": {},
   "source": [
    "## Compromised principles to reach goals"
   ]
  },
  {
   "attachments": {},
   "cell_type": "markdown",
   "metadata": {},
   "source": [
    "Launch this part if the goals are achieved in at least one scenario"
   ]
  },
  {
   "cell_type": "code",
   "execution_count": null,
   "metadata": {},
   "outputs": [],
   "source": [
    "\n",
    "obj = analyse_bdd_general.ppcompromised_goal(scenariosgoals,system)\n",
    "print(obj[0])\n",
    "print(obj[1])"
   ]
  },
  {
   "cell_type": "code",
   "execution_count": null,
   "metadata": {},
   "outputs": [],
   "source": [
    "fig=plt.figure()\n",
    "ax=fig.add_axes([0,0,1,1])\n",
    "\n",
    "variables = list(obj[1].keys())\n",
    "\n",
    "ratio = list(obj[1].values())\n",
    "width = 0.35\n",
    "\n",
    "ax.bar(variables,ratio, width, color='indianred')\n",
    "ax.bar_label(ax.containers[0], label_type='edge')\n",
    "plt.ylabel('Compromission ratio')\n",
    "plt.xlabel('Principles')\n",
    "\n",
    "image_format = 'png' # e.g .png, .svg, etc.\n",
    "image_name = 'ratio_pp_transgresse_joas.png'\n",
    "\n",
    "fig.savefig(image_name, format=image_format, dpi=1200)\n",
    "\n",
    "plt.show()"
   ]
  },
  {
   "attachments": {},
   "cell_type": "markdown",
   "metadata": {},
   "source": [
    "# Best scenarios"
   ]
  },
  {
   "cell_type": "code",
   "execution_count": null,
   "metadata": {
    "tags": []
   },
   "outputs": [],
   "source": [
    "best = analyse_bdd_general.bestscenario(scenariosgoals, system.pp, system, state_dict, data_goals, data_positions, data_opinions)\n",
    "print(best)"
   ]
  },
  {
   "cell_type": "code",
   "execution_count": null,
   "metadata": {},
   "outputs": [],
   "source": [
    "#to store the best scenarios according to one principle\n",
    "principle = \"CreationRichesse\"\n",
    "a = tools.allscenariostoreadbetter(\"bestscenarios_output.txt\", best[0].get(principle), state_dict)\n"
   ]
  },
  {
   "cell_type": "code",
   "execution_count": null,
   "metadata": {},
   "outputs": [],
   "source": [
    "#print the graph representing the number of goals achieved as a function of the decisions taken\n",
    "scenariosmaxgoals = analyse_bdd_general.scenariosmaxgoalscut(scenarios, state_dict, data_goals, 'Objectif')\n",
    "scenariosgoals_final = tools.removeduplicate(scenariosmaxgoals)\n",
    "\n",
    "analyse_bdd_general.graph_objppe(scenariosgoals_final, system, state_dict, data_positions,data_opinions, data_goals, system.pp)"
   ]
  },
  {
   "attachments": {},
   "cell_type": "markdown",
   "metadata": {},
   "source": []
  }
 ],
 "metadata": {
  "kernelspec": {
   "display_name": "these",
   "language": "python",
   "name": "python3"
  },
  "language_info": {
   "codemirror_mode": {
    "name": "ipython",
    "version": 3
   },
   "file_extension": ".py",
   "mimetype": "text/x-python",
   "name": "python",
   "nbconvert_exporter": "python",
   "pygments_lexer": "ipython3",
   "version": "3.8.13"
  },
  "orig_nbformat": 4
 },
 "nbformat": 4,
 "nbformat_minor": 2
}
