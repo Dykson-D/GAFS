{
 "cells": [
  {
   "cell_type": "markdown",
   "metadata": {},
   "source": [
    "# Scenarios Generation Main"
   ]
  },
  {
   "cell_type": "code",
   "execution_count": 9,
   "metadata": {},
   "outputs": [],
   "source": [
    "#Name of the datafile\n",
    "datafile = \"usecase_initialdata.xlsx\""
   ]
  },
  {
   "cell_type": "code",
   "execution_count": 10,
   "metadata": {},
   "outputs": [],
   "source": [
    "import scenarios_generation \n",
    "import TraitementDataconflit\n",
    "import pandas as pd\n",
    "import pickle\n",
    "import tools\n",
    "import analyse_bdd_general\n",
    "import time"
   ]
  },
  {
   "cell_type": "code",
   "execution_count": 11,
   "metadata": {},
   "outputs": [],
   "source": [
    "#Datafile treatment\n",
    "a = TraitementDataconflit.tablecreation(datafile)\n",
    "\n",
    "data_decision = a[3]\n",
    "data_opinions = a[0]\n",
    "data_positions = a[1]\n",
    "data_user = a[2]\n",
    "data_initialstate = a[6]\n",
    "data_logicalconstraint = a[4]\n",
    "data_pplconstraint = a[5]\n",
    "data_goals = a[7]"
   ]
  },
  {
   "cell_type": "markdown",
   "metadata": {},
   "source": [
    "## System creation"
   ]
  },
  {
   "cell_type": "code",
   "execution_count": 12,
   "metadata": {},
   "outputs": [
    {
     "name": "stdout",
     "output_type": "stream",
     "text": [
      "System creation done\n"
     ]
    }
   ],
   "source": [
    "my_system = scenarios_generation.System({},[],{})\n",
    "\n",
    "D = scenarios_generation.D_formation(data_decision)\n",
    "\n",
    "ens_decisions_acteurs_objets = scenarios_generation.decisions_acteurs_objets(D,data_decision)\n",
    "\n",
    "my_system = scenarios_generation.variables_formation(data_opinions, my_system)\n",
    "   \n",
    "my_system = scenarios_generation.acteurs_formation(data_user, ens_decisions_acteurs_objets,my_system,data_decision,data_positions,data_opinions)         \n",
    "    \n",
    "my_systeme = scenarios_generation.pp_formations(my_system,data_positions)\n",
    "\n",
    "for i in data_initialstate.index:\n",
    "    my_system.v.get(i).valeur_initiale(data_initialstate.loc[i].Valeur)\n",
    "     \n",
    "etat_mon_systeme = scenarios_generation.EtatSysteme(data_positions, data_opinions, my_system.renvoyer_etats_variables())\n",
    "\n",
    "print(\"System creation done\")"
   ]
  },
  {
   "cell_type": "markdown",
   "metadata": {},
   "source": [
    "## Scenario Tree Generation"
   ]
  },
  {
   "cell_type": "markdown",
   "metadata": {},
   "source": [
    "Chose the maximum tree depth and the type of generation"
   ]
  },
  {
   "cell_type": "code",
   "execution_count": 13,
   "metadata": {},
   "outputs": [],
   "source": [
    "MAX_PROF = 3\n",
    "\n",
    "#if input == [] : all scenarios are generated\n",
    "#if input == [x] : return 1 scenario for x scenarios\n",
    "#if input == n : return the first n scenarios\n",
    "cutcriteria = []"
   ]
  },
  {
   "cell_type": "code",
   "execution_count": 14,
   "metadata": {},
   "outputs": [
    {
     "name": "stdout",
     "output_type": "stream",
     "text": [
      "End generation\n",
      "236.12927389144897\n"
     ]
    }
   ],
   "source": [
    "a = time.time()\n",
    "dict_etat = {} #the file with the system states and there numbers\n",
    "dict_decision = {}\n",
    "indice = 1\n",
    "nbscenarios = [0]\n",
    "dict_etat.update({1:etat_mon_systeme})\n",
    "root = scenarios_generation.Node(False,1,[],{}, 0,None)\n",
    "compteur = 0\n",
    "\n",
    "with open('stockage_scenariotest.pkl','wb')as writer :\n",
    "    t3 = scenarios_generation.treegeneration3(writer,cutcriteria,nbscenarios, indice, dict_etat,root,root,my_system, data_opinions, \n",
    "                            data_positions, data_pplconstraint,D, data_logicalconstraint, MAX_PROF, data_goals)\n",
    "\n",
    "print(\"End generation\")\n",
    "b=time.time()\n",
    "print(b-a)"
   ]
  },
  {
   "cell_type": "markdown",
   "metadata": {},
   "source": [
    "## Storage and Scenarios saving"
   ]
  },
  {
   "cell_type": "code",
   "execution_count": 15,
   "metadata": {},
   "outputs": [
    {
     "name": "stdout",
     "output_type": "stream",
     "text": [
      "data done\n"
     ]
    }
   ],
   "source": [
    "dict_etat1 = {}\n",
    "for i in dict_etat :\n",
    "    dict_etat1.update({i:dict_etat.get(i).etat_variables})\n",
    "dict_etatex = pd.DataFrame(dict_etat1)\n",
    "dict_etatex.to_excel('dict_states.xlsx')\n",
    "\n",
    "data = []\n",
    "with open('stockage_scenariotest.pkl','rb')as file :\n",
    "    while True :\n",
    "        try:\n",
    "            data.append(pickle.load(file))\n",
    "        except EOFError:\n",
    "            break\n",
    "\n",
    "\n",
    "print(\"data done\")"
   ]
  },
  {
   "cell_type": "code",
   "execution_count": 16,
   "metadata": {},
   "outputs": [
    {
     "name": "stdout",
     "output_type": "stream",
     "text": [
      "Storage done\n",
      "('Scenarios : 26358', 'Reached states : 27 over 216', 'Loop : 25', 'Conflicts : 11026', 'Goals reached :435(1.650352834054177%)')\n"
     ]
    }
   ],
   "source": [
    "tools.storage(data,'stockage_scenarios.pkl')\n",
    "tools.storage(dict_etat, 'stockagedict_etat.pkl')\n",
    "tools.storage(D, 'stockage_d.pkl')\n",
    "tools.storage(my_system,'stockage_systeme.pkl')\n",
    "\n",
    "print(\"Storage done\")\n",
    "\n",
    "tools.allscenariostoreadbetter('allscenarios_output.txt', data, dict_etat)\n",
    "print(analyse_bdd_general.statistiques(data, dict_etat, data_opinions))"
   ]
  },
  {
   "cell_type": "code",
   "execution_count": null,
   "metadata": {},
   "outputs": [],
   "source": []
  },
  {
   "cell_type": "code",
   "execution_count": null,
   "metadata": {},
   "outputs": [],
   "source": []
  },
  {
   "cell_type": "code",
   "execution_count": null,
   "metadata": {},
   "outputs": [],
   "source": []
  }
 ],
 "metadata": {
  "kernelspec": {
   "display_name": "Python 3",
   "language": "python",
   "name": "python3"
  },
  "language_info": {
   "codemirror_mode": {
    "name": "ipython",
    "version": 3
   },
   "file_extension": ".py",
   "mimetype": "text/x-python",
   "name": "python",
   "nbconvert_exporter": "python",
   "pygments_lexer": "ipython3",
   "version": "3.8.8"
  }
 },
 "nbformat": 4,
 "nbformat_minor": 2
}
